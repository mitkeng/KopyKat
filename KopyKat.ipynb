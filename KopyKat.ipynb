{
  "nbformat": 4,
  "nbformat_minor": 0,
  "metadata": {
    "colab": {
      "name": "Copy of KopyKat.ipynb",
      "private_outputs": true,
      "provenance": [],
      "collapsed_sections": [],
      "machine_shape": "hm"
    },
    "kernelspec": {
      "name": "python3",
      "display_name": "Python 3"
    },
    "language_info": {
      "name": "python"
    },
    "accelerator": "GPU"
  },
  "cells": [
    {
      "cell_type": "markdown",
      "source": [
        "#**KopyKat**: Peptide Conformation Generation \n",
        "[OpenMM](http://docs.openmm.org/latest/userguide/)🔗Integrated.  GPU⚡Accelerated  <img src=\"https://t3.ftcdn.net/jpg/04/83/66/74/240_F_483667401_w8c04vlYURjZT7bZ9es9Fp0sL7gxkl8s.jpg\" height=\"190\" align=\"right\" style=\"height:100px\"> \n",
        "\n",
        "*By: Mithony Keng*\n",
        "<img src=\"https://t3.ftcdn.net/jpg/04/83/66/74/240_F_483667401_w8c04vlYURjZT7bZ9es9Fp0sL7gxkl8s.jpg\" height=\"235\" align=\"right\" style=\"height:100px\"><img src=\"https://t3.ftcdn.net/jpg/04/83/66/74/240_F_483667401_w8c04vlYURjZT7bZ9es9Fp0sL7gxkl8s.jpg\" height=\"285\" align=\"right\" style=\"height:100px\">"
      ],
      "metadata": {
        "id": "fymz2Kk8rfaL"
      }
    },
    {
      "cell_type": "code",
      "source": [
        "#@title Install Conda for Colaab and other requirements\n",
        "#Install Conda for Colab and other requirements.\n",
        "#Run cell required for conda program\n",
        "\n",
        "try:\n",
        "    import google.colab\n",
        "    !pip install condacolab\n",
        "    import condacolab\n",
        "    condacolab.install()\n",
        "except ModuleNotFoundError:\n",
        "    pass\n",
        "!pip install py3Dmol\n",
        "!pip install nglview\n",
        "!pip install parmed"
      ],
      "metadata": {
        "cellView": "form",
        "id": "h1x82foGSf54"
      },
      "execution_count": null,
      "outputs": []
    },
    {
      "cell_type": "code",
      "source": [
        "#@title Import the installations\n",
        "try:\n",
        "    import condacolab\n",
        "    from google.colab import files\n",
        "    from IPython.display import clear_output\n",
        "    condacolab.check()\n",
        "    !conda install -q -y -c conda-forge mdtraj openmm openmmforcefields pdbfixer pypdb rdkit\n",
        "    on_colab = True\n",
        "    clear_output()  # clear the excessive installation outputs\n",
        "    print(\"Dependencies successfully installed!\")\n",
        "except ModuleNotFoundError:\n",
        "    on_colab = False\n",
        "\n",
        "import sys\n",
        "import os.path\n",
        "try:\n",
        "  dir1 = 'results'\n",
        "  os.mkdir(dir1)\n",
        "except FileExistsError:\n",
        "  next\n",
        "try:\n",
        "  dir2 = 'data'\n",
        "  os.mkdir(dir2)\n",
        "except FileExistsError:\n",
        "  next\n",
        "  "
      ],
      "metadata": {
        "id": "zkiIBc0QSR6x",
        "cellView": "form"
      },
      "execution_count": null,
      "outputs": []
    },
    {
      "cell_type": "markdown",
      "source": [
        "# **Generation** "
      ],
      "metadata": {
        "id": "1F3DIbpW6tE7"
      }
    },
    {
      "cell_type": "markdown",
      "source": [
        "**KopyKat takes in a pdb formated file. After the file name has been entered, run the cell to preprocess the input structure.**"
      ],
      "metadata": {
        "id": "Szk7qPILojeO"
      }
    },
    {
      "cell_type": "code",
      "execution_count": null,
      "metadata": {
        "id": "Z1An6bG_NNWc",
        "cellView": "form"
      },
      "outputs": [],
      "source": [
        "#@title\n",
        "import pdbfixer\n",
        "import simtk.openmm as mm\n",
        "import simtk.openmm.app as app\n",
        "from simtk.openmm import unit\n",
        "from openff.toolkit.topology import Molecule, Topology\n",
        "from openmmforcefields.generators import GAFFTemplateGenerator\n",
        "import numpy.linalg as lin\n",
        "import sys\n",
        "import os\n",
        "import os.path\n",
        "import math\n",
        "from pkg_resources import resource_filename\n",
        "from pdbfixer import PDBFixer\n",
        "from simtk.openmm.app import PDBFile\n",
        "\n",
        "Enter_File = \"6a5j.pdb\" #@param {type:\"string\"}\n",
        "\n",
        "file_name =('{}'.format(Enter_File))\n",
        "file_name = file_name.strip()\n",
        "new_file = file_name.replace('.pdb','_conf.pdb')\n",
        "#fixer = PDBFixer(pdbid='2hyy')\n",
        "fixer = PDBFixer(filename=('{}'.format(file_name)))\n",
        "fixer.findMissingResidues()\n",
        "#fixer.findNonstandardResidues()\n",
        "#fixer.replaceNonstandardResidues()\n",
        "#fixer.removeHeterogens()\n",
        "fixer.findMissingAtoms()\n",
        "fixer.addMissingAtoms()\n",
        "fixer.addMissingHydrogens(7.0)\n",
        "#fixer.addSolvent(fixer.topology.getUnitCellDimensions()) \n",
        "#fixer.addSolvent(padding=2*unit.angstrom, ionicStrength=0.050*unit.molar)\n",
        "PDBFile.writeFile(fixer.topology, fixer.positions, open('data/{}'.format(file_name), 'w'))"
      ]
    },
    {
      "cell_type": "markdown",
      "source": [
        "**This platform uses the [OpenMM](http://docs.openmm.org/latest/userguide/application/02_running_sims.html) Molecular Dynamics software for conformation generation. Complete the fields below to initiate conformation generation.** "
      ],
      "metadata": {
        "id": "2m4sJTAlpNLh"
      }
    },
    {
      "cell_type": "code",
      "source": [
        "#@title\n",
        "#@markdown Select a temperature for the MD trajectory\n",
        "Temperature_Kelvin = 454 #@param {type:\"slider\", min:200, max:700, step:1}\n",
        "\n",
        "#@markdown Choose a primary force field (for gas phase, select only the primary Force_Field_1) \n",
        "\n",
        "Force_Field_1 =\"amber14/protein.ff14SB.xml\" #@param [\"\",\"amber14/protein.ff14SB.xml\",\"amber14-all.xml\", \"amber96.xml\", \"charmm36.xml\", \"amoeba2018.xml\"] {allow-input: true}\n",
        "f1 = Force_Field_1\n",
        "\"\"\n",
        "#@markdown For solution phase explicit solvent model, add the following force field\n",
        "Force_Field_2 = \"\" #@param [\"\", \"amber14/tip3p.xml\", \"amber14/tip3pfb.xml\", \"amber14/tip4pew.xml\", \"amber14/tip4pfb.xml\", \"amber14/spce.xml\", \"charmm36/tip3p-pme-b.xml\", \"charmm36/tip3p-pme-f.xml\",\"charmm36/tip4pew.xml\", \"charmm36/tip4p2005.xml\", \"charmm36/tip5p.xml\", \"charmm36/tip5pew.xml\"] {allow-input: true}\n",
        "f2 = Force_Field_2\n",
        "\n",
        "#@markdown For solution phase implicit solvent model, add the following force field\n",
        "Force_Field_3 =\"\" #@param [\"\",\"implicit/hct.xml\", \"implicit/obc1.xml\", \"implicit/obc2.xml\", \"implicit/gbn.xml\",\"implicit/gbn2.xml\"] {allow-input: true}\n",
        "f3 = Force_Field_3\n",
        "\n",
        "#@markdown Structure minimization\n",
        "Energy_Minimize = True #@param {type:\"boolean\"}\n",
        "\n",
        "#@markdown Enter the number of conformation to generate\n",
        "Number_of_Conformers =  1000#@param {type:\"integer\"}\n",
        "\n",
        "\n",
        "from openmm.app import *\n",
        "from openmm import *\n",
        "from openmm.unit import *\n",
        "from sys import stdout\n",
        "import py3Dmol\n",
        "import nglview\n",
        "import nglview as nv\n",
        "\n",
        "num_conf = Number_of_Conformers\n",
        "\n",
        "while True:\n",
        "  try:\n",
        "    num_conf = int(num_conf)\n",
        "    break\n",
        "  except ValueError:\n",
        "    print(\"Please try again.\")\n",
        "    num_conf = input('Enter the conformation to generate: ')\n",
        "pdb = PDBFile('data/{}'.format(file_name))\n",
        "modeller = app.Modeller(pdb.topology, pdb.positions)\n",
        "if f1 !=\"\" and f2 ==\"\" and f3 ==\"\":\n",
        "  forcefield = app.ForceField(f1)\n",
        "if f1 !=\"\" and f2 !=\"\" and f3 ==\"\":\n",
        "  forcefield = app.ForceField(f1,f2)\n",
        "if f1 !=\"\" and f2 ==\"\" and f3 !=\"\":\n",
        "  forcefield = app.ForceField(f1,f3)\n",
        "if f1 ==\"\" and f2 !=\"\" and f3 ==\"\":\n",
        "  forcefield = app.ForceField(\"amber14-all.xml\",f2)\n",
        "if f1 ==\"\" and f2 ==\"\" and f3 !=\"\":\n",
        "  forcefield = app.ForceField(\"amber14-all.xml\",f3)\n",
        "  print(\"Since no primary force field was selected, amber14-all.xml has be implemented as default.\")\n",
        "try:\n",
        "  system = forcefield.createSystem(modeller.topology)\n",
        "except ValueError:\n",
        "  next \n",
        "integrator = mm.LangevinIntegrator(Temperature_Kelvin * kelvin, 1.0 / picoseconds, 2.0 * femtoseconds)\n",
        "simulation = app.Simulation(modeller.topology, system, integrator)\n",
        "simulation.context.setPositions(modeller.positions)\n",
        "\n",
        "if Energy_Minimize == True:\n",
        "  simulation.minimizeEnergy()\n",
        "else:\n",
        "  next\n",
        "  \n",
        "steps = num_conf * 100  # corresponds to 100 ps\n",
        "simulation.reporters.append(PDBReporter('results/{}'.format(new_file), 100))\n",
        "print(\"\")\n",
        "print(\"\")\n",
        "print(\"Generated conformers will be appended to a single pdb file.\")\n",
        "simulation.step(steps)\n",
        "print(\"\")\n",
        "print(\"Task complete.\")\n",
        "files.download(\"results/{}\".format(new_file))\n",
        "# simulation.reporters.append(StateDataReporter(stdout, 20, step=True,\n",
        "#         potentialEnergy=True, temperature=True))\n",
        "\n",
        "#view = nv.show_file('results/{}'.format(new_file))  # load \"3pqr\" from RCSB PDB and display viewer widget\n",
        "#view"
      ],
      "metadata": {
        "id": "x15w2e0-NSgB",
        "cellView": "form"
      },
      "execution_count": null,
      "outputs": []
    }
  ]
}
